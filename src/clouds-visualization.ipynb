{
 "cells": [
  {
   "cell_type": "markdown",
   "metadata": {},
   "source": [
    "# Imports"
   ]
  },
  {
   "cell_type": "code",
   "execution_count": null,
   "metadata": {
    "_cell_guid": "b1076dfc-b9ad-4769-8c92-a6c4dae69d19",
    "_uuid": "8f2839f25d086af736a60e9eeb907d3b93b6e0e5"
   },
   "outputs": [],
   "source": [
    "import numpy as np \n",
    "import pandas as pd\n",
    "import os\n",
    "import cv2\n",
    "\n",
    "import matplotlib.pyplot as plt\n",
    "from matplotlib import patches as patches"
   ]
  },
  {
   "cell_type": "markdown",
   "metadata": {},
   "source": [
    "# Config"
   ]
  },
  {
   "cell_type": "code",
   "execution_count": null,
   "metadata": {},
   "outputs": [],
   "source": [
    "class_names = [\"Fish\", \"Flower\", \"Gravel\", \"Sugar\"]\n",
    "colors = ['Blue', 'Red', 'Gray', 'Purple']"
   ]
  },
  {
   "cell_type": "code",
   "execution_count": null,
   "metadata": {
    "_cell_guid": "79c7e3d0-c299-4dcb-8224-4455121ee9b0",
    "_uuid": "d629ff2d2480ee46fbb7e2d37f6b5fab8052498a"
   },
   "outputs": [],
   "source": [
    "path = '../input/understanding_cloud_organization/'\n",
    "path_train = path + 'train_images/'\n",
    "path_test = path + 'test_images/'"
   ]
  },
  {
   "cell_type": "markdown",
   "metadata": {},
   "source": [
    "# Image and mask functions"
   ]
  },
  {
   "cell_type": "code",
   "execution_count": null,
   "metadata": {},
   "outputs": [],
   "source": [
    "def np_resize(img, input_shape):\n",
    "    \"\"\"\n",
    "    Reshape a numpy array, which is input_shape=(height, width), \n",
    "    as opposed to input_shape=(width, height) for cv2\n",
    "    \"\"\"\n",
    "    height, width = input_shape\n",
    "    return cv2.resize(img, (width, height))\n",
    "\n",
    "def rle2mask(rle, input_shape):\n",
    "    width, height = input_shape[:2]\n",
    "    \n",
    "    mask= np.zeros( width*height ).astype(np.uint8)\n",
    "    \n",
    "    array = np.asarray([int(x) for x in rle.split()])\n",
    "    starts = array[0::2]\n",
    "    lengths = array[1::2]\n",
    "\n",
    "    current_position = 0\n",
    "    for index, start in enumerate(starts):\n",
    "        mask[int(start):int(start+lengths[index])] = 1\n",
    "        current_position += lengths[index]\n",
    "        \n",
    "    return mask.reshape(height, width).T\n",
    "\n",
    "def build_masks(rles, input_shape, reshape=None):\n",
    "    depth = len(rles)\n",
    "    if reshape is None:\n",
    "        masks = np.zeros((*input_shape, depth))\n",
    "    else:\n",
    "        masks = np.zeros((*reshape, depth))\n",
    "    \n",
    "    for i, rle in enumerate(rles):\n",
    "        if type(rle) is str:\n",
    "            if reshape is None:\n",
    "                masks[:, :, i] = rle2mask(rle, input_shape)\n",
    "            else:\n",
    "                mask = rle2mask(rle, input_shape)\n",
    "                reshaped_mask = np_resize(mask, reshape)\n",
    "                masks[:, :, i] = reshaped_mask\n",
    "    \n",
    "    return masks\n",
    "\n",
    "def get_rles(rles_df, ID):\n",
    "    image_df = rles_df[rles_df['ImageId'] == ID]\n",
    "    rles = image_df['EncodedPixels'].values\n",
    "    return rles"
   ]
  },
  {
   "cell_type": "markdown",
   "metadata": {},
   "source": [
    "# Visualization functions"
   ]
  },
  {
   "cell_type": "code",
   "execution_count": null,
   "metadata": {},
   "outputs": [],
   "source": [
    "def bounding_box(img):\n",
    "    rows = np.any(img, axis=1)\n",
    "    cols = np.any(img, axis=0)\n",
    "    rmin, rmax = np.where(rows)[0][[0, -1]]\n",
    "    cmin, cmax = np.where(cols)[0][[0, -1]]\n",
    "\n",
    "    return rmin, rmax, cmin, cmax\n",
    "\n",
    "def plot_cloud(img_id):\n",
    "    img = cv2.imread(os.path.join(path_train, img_id))\n",
    "    img = cv2.resize(img, (525, 350))\n",
    "    \n",
    "    rles = get_rles(train_df, img_id)\n",
    "    masks = build_masks(rles, (1400, 2100), (350,525))\n",
    "    \n",
    "    fig, ax = plt.subplots(nrows=1, ncols=1, sharey=True, figsize=(8,4))\n",
    "    ax.imshow(img)\n",
    "    \n",
    "    for i in range(4):\n",
    "        mask = masks[...,i]\n",
    "        label = class_names[i]\n",
    "\n",
    "        if np.sum(mask) != 0:\n",
    "            kernel = np.ones((4,4),np.uint8)\n",
    "            mask = cv2.dilate(mask,kernel,iterations = 2)\n",
    "            mask = cv2.erode(mask,kernel,iterations = 2)\n",
    "            num_component, component = cv2.connectedComponents(mask.astype(np.uint8))\n",
    "            \n",
    "            for j in range(1, num_component):\n",
    "                rmin, rmax, cmin, cmax = bounding_box(component == j)\n",
    "                bbox = patches.Rectangle((cmin,rmin),cmax-cmin,rmax-rmin,linewidth=3,edgecolor=colors[i],facecolor='none')\n",
    "                ax.add_patch(bbox)\n",
    "                ax.text(cmin, rmin, label, bbox=dict(fill=True, color=colors[i]))\n",
    "                ax.text(cmin, rmin, label, bbox=dict(fill=True, color=colors[i]))\n",
    "                ax.axis('off')\n",
    "                \n",
    "def plot_simple(img_id):\n",
    "    img = cv2.imread(os.path.join(path_train, img_id))\n",
    "    img = cv2.resize(img, (525, 350))\n",
    "    \n",
    "    rles = get_rles(train_df, img_id)\n",
    "    masks = build_masks(rles, (1400, 2100), (350,525))\n",
    "    \n",
    "    fig, ax = plt.subplots(nrows=1, ncols=5, sharey=True, figsize=(20,4))\n",
    "    ax[0].imshow(img)\n",
    "    ax[0].axis('off')\n",
    "    \n",
    "    for i in range(4):\n",
    "        mask = masks[...,i]\n",
    "        ax[i+1].imshow(mask)\n",
    "        ax[i+1].set_title(class_names[i])\n",
    "        ax[i+1].axis('off')"
   ]
  },
  {
   "cell_type": "markdown",
   "metadata": {},
   "source": [
    "# Make some visualizations"
   ]
  },
  {
   "cell_type": "markdown",
   "metadata": {},
   "source": [
    "## Load data"
   ]
  },
  {
   "cell_type": "code",
   "execution_count": null,
   "metadata": {},
   "outputs": [],
   "source": [
    "train_df = pd.read_csv(path + 'train.csv')\n",
    "train_df['ImageId'] = train_df['Image_Label'].apply(lambda x: x.split('_')[0])\n",
    "train_df['ClassId'] = train_df['Image_Label'].apply(lambda x: x.split('_')[1])\n",
    "train_df['hasMask'] = ~ train_df['EncodedPixels'].isna()\n",
    "\n",
    "print(train_df.shape)\n",
    "train_df.head()"
   ]
  },
  {
   "cell_type": "markdown",
   "metadata": {},
   "source": [
    "## Simple visualization"
   ]
  },
  {
   "cell_type": "code",
   "execution_count": null,
   "metadata": {},
   "outputs": [],
   "source": [
    "for image_id in train_df['ImageId'].unique()[0:30]:\n",
    "    plot_simple(image_id)"
   ]
  },
  {
   "cell_type": "markdown",
   "metadata": {},
   "source": [
    "## Mask box visualization"
   ]
  },
  {
   "cell_type": "code",
   "execution_count": null,
   "metadata": {},
   "outputs": [],
   "source": [
    "for image_id in train_df['ImageId'].unique()[0:30]:\n",
    "    plot_cloud(image_id)"
   ]
  }
 ],
 "metadata": {
  "kernelspec": {
   "display_name": "Python 3",
   "language": "python",
   "name": "python3"
  },
  "language_info": {
   "codemirror_mode": {
    "name": "ipython",
    "version": 3
   },
   "file_extension": ".py",
   "mimetype": "text/x-python",
   "name": "python",
   "nbconvert_exporter": "python",
   "pygments_lexer": "ipython3",
   "version": "3.5.3"
  }
 },
 "nbformat": 4,
 "nbformat_minor": 1
}
